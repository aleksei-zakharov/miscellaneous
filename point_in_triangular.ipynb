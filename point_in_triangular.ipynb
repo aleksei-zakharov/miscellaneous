{
 "cells": [
  {
   "cell_type": "code",
   "execution_count": 9,
   "metadata": {},
   "outputs": [],
   "source": [
    "def is_a_triangular_and_point_is_inside(tr_vert, point):\n",
    "    # given point and triangular vertices 2D coordinates, the function\n",
    "    # 1) prints whether we can construct triangular from 3 lengths, and\n",
    "    # 2) prints whether a point is inside a triangular or outside\n",
    "\n",
    "    def is_triangular(ab, bc, ca):\n",
    "        # returns True if we can construct triangular from 3 lengths\n",
    "        if ab + bc <= ca:\n",
    "            return False\n",
    "        if bc + ca <= ab:\n",
    "            return False\n",
    "        if ca + ab <= bc:\n",
    "            return False\n",
    "        return True\n",
    "\n",
    "\n",
    "    def length(ax, ay, bx, by):\n",
    "        # returns the length between 2 points\n",
    "        return ((ax - bx)**2 + (ay - by)**2)**0.5\n",
    "\n",
    "\n",
    "    def square (ax, ay, bx, by, cx, cy):\n",
    "        # given 2D coordinates of 3 vertices,\n",
    "        # the function returns the square of the triangular\n",
    "        x1 = bx - ax\n",
    "        y1 = by - ay\n",
    "        x2 = cx - ax\n",
    "        y2 = cy - ay\n",
    "        return abs((x1*y2 - x2*y1)/2)\n",
    "\n",
    "\n",
    "    # values initialization\n",
    "    ax, ay, bx, by, cx, cy = tr_vert[0][0], tr_vert[0][1], \\\n",
    "                             tr_vert[1][0], tr_vert[1][1], \\\n",
    "                             tr_vert[2][0],tr_vert[2][1]\n",
    "    px, py =point[0], point[1]\n",
    "\n",
    "    # prints whether we can construct triangular from 3 lengths\n",
    "    ab = length(ax, ay, bx, by)\n",
    "    bc = length(bx, by, cx, cy)\n",
    "    ca = length(cx, cy, ax, ay)\n",
    "    print('Is a triangular?', is_triangular(ab,bc,ca))\n",
    "\n",
    "    # prints whether a point is inside a triangular or outside\n",
    "    sq = square(ax, ay, bx, by, cx, cy)\n",
    "    sq1 = square(ax, ay, bx, by, px, py)\n",
    "    sq2 = square(ax, ay, px, py, cx, cy)\n",
    "    sq3 = square(px, py, bx, by, cx, cy)\n",
    "    if sq == sq1 + sq2 + sq3:\n",
    "        print('The point is inside')\n",
    "    else:\n",
    "        print('The point is outside')"
   ]
  },
  {
   "cell_type": "code",
   "execution_count": 13,
   "metadata": {},
   "outputs": [
    {
     "name": "stdout",
     "output_type": "stream",
     "text": [
      "Is a triangular? True\n",
      "The point is outside\n"
     ]
    }
   ],
   "source": [
    "triangular_vertices = [[6, 0], [0, 4], [0, 0]]\n",
    "point = [3, 2.01]\n",
    "\n",
    "is_a_triangular_and_point_is_inside(triangular_vertices, point)"
   ]
  }
 ],
 "metadata": {
  "kernelspec": {
   "display_name": "venv",
   "language": "python",
   "name": "python3"
  },
  "language_info": {
   "codemirror_mode": {
    "name": "ipython",
    "version": 3
   },
   "file_extension": ".py",
   "mimetype": "text/x-python",
   "name": "python",
   "nbconvert_exporter": "python",
   "pygments_lexer": "ipython3",
   "version": "3.11.5"
  }
 },
 "nbformat": 4,
 "nbformat_minor": 2
}
