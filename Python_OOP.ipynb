{
 "cells": [
  {
   "cell_type": "markdown",
   "metadata": {},
   "source": [
    "## Video1 - initialization of a class and using of methods"
   ]
  },
  {
   "cell_type": "markdown",
   "metadata": {},
   "source": [
    "#### initialization of a class"
   ]
  },
  {
   "cell_type": "markdown",
   "metadata": {},
   "source": [
    "If we need to work with many similar objects the same way, we can use classes for this. A class is a blueprint for creating instances. \n",
    "\n",
    "We can create new class Employee with attributes:\n",
    "\n",
    "* \"first\" for the first name\n",
    "\n",
    "* \"last\" for the last name\n",
    "\n",
    "* \"pay\" for the salary\n",
    "\n",
    "* \"email\"\n",
    "\n",
    "After that, we can create two instances for two different employees using this class Employee as a convenient template. \n",
    "\n",
    "As we can see, we initialize the new instance using 3 arguments (\"first\", \"last\" and \"pay\") in __init__ function but we create \"email\" for the instance during the same initialization process. And we can address to his \"email\" attribute in the \"print\" function (see below)"
   ]
  },
  {
   "cell_type": "code",
   "execution_count": 5,
   "metadata": {},
   "outputs": [
    {
     "name": "stdout",
     "output_type": "stream",
     "text": [
      "John.Smith@company.com\n",
      "Test.User@company.com\n"
     ]
    }
   ],
   "source": [
    "class Employee: \n",
    "\n",
    "    # init function helps to avoid manual definition\n",
    "    # like emp1.first='John', emp1.last='Smith for each employee\n",
    "    def __init__(self, first, last, pay): \n",
    "        self.first = first\n",
    "        self.last = last\n",
    "        self.pay = pay\n",
    "        self.email = first + '.' + last + '@company.com'\n",
    "\n",
    "emp_1 = Employee('John', 'Smith', 50_000)\n",
    "emp_2 = Employee('Test', 'User', 60_000)\n",
    "    \n",
    "print(emp_1.email)\n",
    "print(emp_2.email)"
   ]
  },
  {
   "cell_type": "markdown",
   "metadata": {},
   "source": [
    "#### using of a method"
   ]
  },
  {
   "cell_type": "markdown",
   "metadata": {},
   "source": [
    "During initialization, we assign values to self.first and self.last values. If we want sometimes to do some manipulation with these class attributes, we can use methods. For example, we use \"fullname\" method here to return a string with fullname of an employee."
   ]
  },
  {
   "cell_type": "code",
   "execution_count": 2,
   "metadata": {},
   "outputs": [
    {
     "name": "stdout",
     "output_type": "stream",
     "text": [
      "John.Smith@company.com\n",
      "John Smith\n",
      "John Smith\n"
     ]
    }
   ],
   "source": [
    "class Employee: \n",
    "    def __init__(self, first, last, pay): \n",
    "        self.first = first\n",
    "        self.last = last\n",
    "        self.pay = pay\n",
    "        self.email = first + '.' + last + '@company.com'\n",
    "\n",
    "    def fullname(self): # method, so we must call it using fullname()\n",
    "        return '{} {}'.format(self.first, self.last)\n",
    "\n",
    "\n",
    "emp_1 = Employee('John', 'Smith', 50_000)\n",
    "    \n",
    "print(emp_1.email)\n",
    "\n",
    "# there are 2 types of calling a \"fullname\" method\n",
    "print(emp_1.fullname())\n",
    "print(Employee.fullname(emp_1))  # it works also!s"
   ]
  },
  {
   "cell_type": "markdown",
   "metadata": {},
   "source": [
    "## Video 2 - class variables"
   ]
  },
  {
   "cell_type": "markdown",
   "metadata": {},
   "source": [
    "We can have variables related to a class but not to an instance of a class. For example, we initialize attributes \"num_of_emps\" and \"raise amount\" inside a class.isinstance\n",
    "\n",
    "During initialization of new instances, we increase \"num_of_emps\" to track the number of employees we have.\n",
    "\n",
    "The class attribute \"raise_amount\" is used in the \"apply_raise\" method to increase pay for an employee."
   ]
  },
  {
   "cell_type": "code",
   "execution_count": 9,
   "metadata": {},
   "outputs": [
    {
     "name": "stdout",
     "output_type": "stream",
     "text": [
      "50000\n",
      "52000\n",
      "pay increased by 4% after calling of \"apply_raise\" method\n",
      "--------\n",
      "1.04\n",
      "1.04\n",
      "1.04\n",
      "\"raise_amount\" attribute is the same for the class and for each of instances\n",
      "--------\n",
      "1.06\n",
      "1.06\n",
      "1.06\n",
      "\"raise_amount\" attribute changes for the whole class and, consequently, for each of instances\n",
      "--------\n",
      "1.06\n",
      "1.1\n",
      "1.06\n",
      "\"raise_amount\" attribute changes for \"emp1\" but not for the whole class and \"emp2\"\n",
      "--------\n",
      "2\n",
      "\"num_of_emps\" attribute calculated the number of employees of this class: there are two employees\n"
     ]
    }
   ],
   "source": [
    "class Employee:\n",
    "    num_of_emps = 0\n",
    "    raise_amount = 1.04\n",
    "\n",
    "    def __init__(self, first, last, pay): \n",
    "        self.first = first\n",
    "        self.last = last\n",
    "        self.pay = pay\n",
    "        self.email = first + '.' + last + '@company.com'\n",
    "        Employee.num_of_emps +=1  # increase class attribute by 1\n",
    "\n",
    "    def apply_raise(self):  # it's a method, so we must call apply_raise()\n",
    "        self.pay = int(self.pay * self.raise_amount)\n",
    "\n",
    "emp_1 = Employee('John', 'Smith', 50_000)\n",
    "emp_2 = Employee('Test', 'User', 60_000)\n",
    "    \n",
    "print(emp_1.pay)\n",
    "emp_1.apply_raise() # we raise pay for emp_1\n",
    "print(emp_1.pay)\n",
    "print('pay increased by 4% after calling of \"apply_raise\" method')\n",
    "print('--------')\n",
    "\n",
    "print(Employee.raise_amount) # calls raise amount of the class\n",
    "print(emp_1.raise_amount) # calls raise amount of the class of this instance\n",
    "print(emp_2.raise_amount)\n",
    "print('\"raise_amount\" attribute is the same for the class and for each of instances')\n",
    "print('--------')\n",
    "\n",
    "Employee.raise_amount = 1.06 # change raise_amount for the whole class\n",
    "print(Employee.raise_amount) # calls raise amount of the class\n",
    "print(emp_1.raise_amount) # calls raise amount of the class of this instance\n",
    "print(emp_2.raise_amount)\n",
    "print('\"raise_amount\" attribute changes for the whole class and, consequently, for each of instances')\n",
    "print('--------')\n",
    "\n",
    "emp_1.raise_amount = 1.1 # change raise_amount only for emp_1\n",
    "print(Employee.raise_amount) # calls raise amount of the class\n",
    "print(emp_1.raise_amount) # calls raise amount of the class of this instance\n",
    "print(emp_2.raise_amount)\n",
    "print('\"raise_amount\" attribute changes for \"emp1\" but not for the whole class and \"emp2\"')\n",
    "print('--------')\n",
    "\n",
    "print(Employee.num_of_emps)\n",
    "print('\"num_of_emps\" attribute calculated the number of employees of this class: there are two employees')"
   ]
  },
  {
   "cell_type": "markdown",
   "metadata": {},
   "source": [
    "## Video 3 - regular method, static methods and class methods"
   ]
  },
  {
   "cell_type": "markdown",
   "metadata": {},
   "source": [
    "Regular method uses \"self\" and its attributes inside the method and, consequently, needs \"self\" as an argument of a regular method.\n",
    "\n",
    "Static method is used when we do not need the data from this class or instances inside the method. Thus, the arguments of the method does not contain \"self\".\n",
    "\n",
    "Class method is applyed to a class and has \"cls\" as an argument."
   ]
  },
  {
   "cell_type": "code",
   "execution_count": 14,
   "metadata": {},
   "outputs": [
    {
     "name": "stdout",
     "output_type": "stream",
     "text": [
      "1.04\n",
      "1.04\n",
      "1.04\n",
      "we called regular method\n",
      "-----------\n",
      "1.05\n",
      "1.05\n",
      "1.05\n",
      "we applied \"set_raise_amount\" class method and changed \"raise_amount\" to 1.05 for the whole class and all instances respectively\n",
      "----------\n",
      "24\n",
      "24\n",
      "static method does not use information from class or instances\n"
     ]
    }
   ],
   "source": [
    "class Employee: # a blueprint for creating instances\n",
    "    raise_amt = 1.04\n",
    "    def __init__(self, first, last, pay): \n",
    "        self.first = first\n",
    "        self.last = last\n",
    "        self.pay = pay\n",
    "        self.email = first + '.' + last + '@company.com'\n",
    "\n",
    "    def apply_raise(self): # REGULAR METHOD (HAS self)\n",
    "        self.pay = int(self.pay * self.raise_amount)\n",
    "    \n",
    "    @classmethod # applyed to the whole class\n",
    "    def set_raise_amount(cls, amount): # CLASS METHOD (HAS cls)\n",
    "        cls.raise_amt = amount\n",
    "    \n",
    "    @staticmethod \n",
    "    def add(x, y): # STATIC METHOD (DOESN'T HAVE self or cls)\n",
    "        return x + y\n",
    "\n",
    "\n",
    "emp_1 = Employee('John', 'Smith', 50_000)\n",
    "emp_2 = Employee('Test', 'User', 60_000)\n",
    "    \n",
    "print(Employee.raise_amt)\n",
    "print(emp_1.raise_amt)\n",
    "print(emp_2.raise_amt)\n",
    "print('we called regular method')\n",
    "print('-----------')\n",
    "\n",
    "Employee.set_raise_amount(1.05) # CLASS METHOD\n",
    "print(Employee.raise_amt)\n",
    "print(emp_1.raise_amt)\n",
    "print(emp_2.raise_amt)\n",
    "print('we applied \"set_raise_amount\" class method and changed \"raise_amount\" to 1.05 for the whole class and all instances respectively')\n",
    "print('----------')\n",
    "\n",
    "print(Employee.add(10, 14))\n",
    "print(emp_1.add(10, 14))\n",
    "print('static method does not use information from class or instances')"
   ]
  },
  {
   "cell_type": "markdown",
   "metadata": {},
   "source": [
    "CLASS METHOD AS ALTERNATIVE To CREATING OF INSTANCES"
   ]
  },
  {
   "cell_type": "code",
   "execution_count": 26,
   "metadata": {},
   "outputs": [
    {
     "name": "stdout",
     "output_type": "stream",
     "text": [
      "John.Doe@company.com\n"
     ]
    }
   ],
   "source": [
    "class Employee:\n",
    "    raise_amt = 1.04\n",
    "    def __init__(self, first, last, pay): \n",
    "        self.first = first\n",
    "        self.last = last\n",
    "        self.pay = pay\n",
    "        self.email = first + '.' + last + '@company.com'\n",
    "\n",
    "    @classmethod\n",
    "    def from_string(cls, emp_str): # CLASS METHOD (HAS cls)\n",
    "        first, last, pay = emp_str.split('-')\n",
    "        return cls(first, last, pay)  # CLS!!!\n",
    "\n",
    "\n",
    "emp_str_1 = 'John-Smith-70000'\n",
    "new_emp_1 = Employee.from_string(emp_str_1)  \n",
    "print(new_emp_1.email)"
   ]
  },
  {
   "cell_type": "markdown",
   "metadata": {},
   "source": [
    "## Video4 - Inheritance - Creating Subclasses"
   ]
  },
  {
   "cell_type": "markdown",
   "metadata": {},
   "source": [
    "We can create new class Developer via inheritance. The new class will be totally the same."
   ]
  },
  {
   "cell_type": "code",
   "execution_count": 20,
   "metadata": {},
   "outputs": [
    {
     "name": "stdout",
     "output_type": "stream",
     "text": [
      "John.Smith@company.com\n",
      "John.Smith@company.com\n",
      "Employee and Developer classes are the same\n"
     ]
    }
   ],
   "source": [
    "class Employee:\n",
    "    def __init__(self, first, last, pay): \n",
    "        self.first = first\n",
    "        self.last = last\n",
    "        self.pay = pay\n",
    "        self.email = first + '.' + last + '@company.com'\n",
    "\n",
    "\n",
    "class Developer(Employee): # INHERITANCE !!\n",
    "    pass\n",
    "\n",
    "\n",
    "dev_1 = Employee('John', 'Smith', 50_000)\n",
    "dev_2 = Developer('John', 'Smith', 50_000)\n",
    "\n",
    "print(dev_1.email)\n",
    "print(dev_2.email)\n",
    "print('Employee and Developer classes are the same')"
   ]
  },
  {
   "cell_type": "markdown",
   "metadata": {},
   "source": [
    "We can create new class Developer via inheritance. The new class will be totally the same except raise_amount=1.1"
   ]
  },
  {
   "cell_type": "code",
   "execution_count": 23,
   "metadata": {},
   "outputs": [
    {
     "name": "stdout",
     "output_type": "stream",
     "text": [
      "50000\n",
      "55000\n",
      "pay increased by 10% rather than 5%\n"
     ]
    }
   ],
   "source": [
    "class Employee:\n",
    "    raise_amount = 1.05  # increase by 5%\n",
    "    def __init__(self, first, last, pay): \n",
    "        self.first = first\n",
    "        self.last = last\n",
    "        self.pay = pay\n",
    "        self.email = first + '.' + last + '@company.com'\n",
    "    \n",
    "    def apply_raise(self):\n",
    "        self.pay = int(self.pay * self.raise_amount)\n",
    "\n",
    "\n",
    "# it's the same Employee class but with raise_amount = 1.1\n",
    "class Developer(Employee): \n",
    "    raise_amount = 1.1  # increase by 10%\n",
    "    pass\n",
    "\n",
    "\n",
    "dev_1 = Developer('John', 'Smith', 50_000)\n",
    "print(dev_1.pay)\n",
    "\n",
    "dev_1.apply_raise() # APPLY 1.1 RAISE !!\n",
    "print(dev_1.pay)\n",
    "\n",
    "print('pay increased by 10% rather than 5%')"
   ]
  },
  {
   "cell_type": "markdown",
   "metadata": {},
   "source": [
    "Super initialization is used when we want to do initialization of a parent class (=upper class) firstly and then add some lines of code (in our case, self.prog_lang = prog_lang) in the child initialization."
   ]
  },
  {
   "cell_type": "code",
   "execution_count": 24,
   "metadata": {},
   "outputs": [
    {
     "name": "stdout",
     "output_type": "stream",
     "text": [
      "John.Smith@company.com Python\n",
      "Test.User@company.com C++\n"
     ]
    }
   ],
   "source": [
    "class Employee:\n",
    "    raise_amount = 1.05\n",
    "    def __init__(self, first, last, pay): \n",
    "        self.first = first\n",
    "        self.last = last\n",
    "        self.pay = pay\n",
    "        self.email = first + '.' + last + '@company.com'\n",
    "\n",
    "\n",
    "class Developer(Employee):\n",
    "    def __init__(self, first, last, pay, prog_lang):\n",
    "        # don't specify the name of upper class Employee in super initialization!\n",
    "        super().__init__(first, last, pay)  # INSTEAD OF Employee.__init__(self, first, last, pay)\n",
    "        self.prog_lang = prog_lang\n",
    "\n",
    "\n",
    "dev_1 = Developer('John', 'Smith', 50_000, 'Python')\n",
    "dev_2 = Developer('Test', 'User', 60_000, 'C++')\n",
    "\n",
    "print(dev_1.email, dev_1.prog_lang)\n",
    "print(dev_2.email, dev_2.prog_lang)"
   ]
  },
  {
   "cell_type": "markdown",
   "metadata": {},
   "source": [
    "## Video5 - changing the behavior of  built-in functions"
   ]
  },
  {
   "cell_type": "markdown",
   "metadata": {},
   "source": [
    "#### \\_\\_add__() built-in function = function that adds two numbers"
   ]
  },
  {
   "cell_type": "code",
   "execution_count": 47,
   "metadata": {},
   "outputs": [
    {
     "name": "stdout",
     "output_type": "stream",
     "text": [
      "3\n",
      "3\n"
     ]
    }
   ],
   "source": [
    "print(1 + 2)\n",
    "print(int.__add__(1,2))"
   ]
  },
  {
   "cell_type": "markdown",
   "metadata": {},
   "source": [
    "What happens, when we sum two instances, e.g. emp_1 + emp_2? "
   ]
  },
  {
   "cell_type": "code",
   "execution_count": 29,
   "metadata": {},
   "outputs": [
    {
     "ename": "TypeError",
     "evalue": "unsupported operand type(s) for +: 'Employee' and 'Employee'",
     "output_type": "error",
     "traceback": [
      "\u001b[1;31m---------------------------------------------------------------------------\u001b[0m",
      "\u001b[1;31mTypeError\u001b[0m                                 Traceback (most recent call last)",
      "Cell \u001b[1;32mIn[29], line 11\u001b[0m\n\u001b[0;32m      8\u001b[0m emp_1 \u001b[38;5;241m=\u001b[39m Employee(\u001b[38;5;124m'\u001b[39m\u001b[38;5;124mCorey\u001b[39m\u001b[38;5;124m'\u001b[39m, \u001b[38;5;124m'\u001b[39m\u001b[38;5;124mSchafer\u001b[39m\u001b[38;5;124m'\u001b[39m, \u001b[38;5;241m50_000\u001b[39m)\n\u001b[0;32m      9\u001b[0m emp_2 \u001b[38;5;241m=\u001b[39m Employee(\u001b[38;5;124m'\u001b[39m\u001b[38;5;124mTest\u001b[39m\u001b[38;5;124m'\u001b[39m, \u001b[38;5;124m'\u001b[39m\u001b[38;5;124mUser\u001b[39m\u001b[38;5;124m'\u001b[39m, \u001b[38;5;241m60_000\u001b[39m)\n\u001b[1;32m---> 11\u001b[0m \u001b[38;5;28mprint\u001b[39m(emp_1 \u001b[38;5;241m+\u001b[39m emp_2)\n",
      "\u001b[1;31mTypeError\u001b[0m: unsupported operand type(s) for +: 'Employee' and 'Employee'"
     ]
    }
   ],
   "source": [
    "class Employee:\n",
    "    def __init__(self, first, last, pay): \n",
    "        self.first = first\n",
    "        self.last = last\n",
    "        self.pay = pay\n",
    "        self.email = first + '.' + last + '@company.com'\n",
    "\n",
    "emp_1 = Employee('Corey', 'Schafer', 50_000)\n",
    "emp_2 = Employee('Test', 'User', 60_000)\n",
    "\n",
    "print(emp_1 + emp_2)"
   ]
  },
  {
   "cell_type": "markdown",
   "metadata": {},
   "source": [
    "We get the error!!"
   ]
  },
  {
   "cell_type": "markdown",
   "metadata": {},
   "source": [
    "Let's rewrite the built-in function \"\\_\\_add__\""
   ]
  },
  {
   "cell_type": "code",
   "execution_count": 32,
   "metadata": {},
   "outputs": [
    {
     "name": "stdout",
     "output_type": "stream",
     "text": [
      "110000\n",
      "Now we can sum two instances and the program understands what to do\n"
     ]
    }
   ],
   "source": [
    "class Employee:\n",
    "    def __init__(self, first, last, pay): \n",
    "        self.first = first\n",
    "        self.last = last\n",
    "        self.pay = pay\n",
    "        self.email = first + '.' + last + '@company.com'\n",
    "\n",
    "    # we say what to do with \"+\" sign when we sum 2 instances (e.g. emp_1 + emp_2)\n",
    "    def __add__(self, other):  # it's a built_in function\n",
    "        return self.pay + other.pay\n",
    "\n",
    "\n",
    "emp_1 = Employee('Corey', 'Schafer', 50_000)\n",
    "emp_2 = Employee('Test', 'User', 60_000)\n",
    "\n",
    "print(emp_1 + emp_2)\n",
    "print('Now we can sum two instances and the program understands what to do')"
   ]
  },
  {
   "cell_type": "markdown",
   "metadata": {},
   "source": [
    "#### \\_\\_str__() built-in function = a function that creates a string out of number"
   ]
  },
  {
   "cell_type": "code",
   "execution_count": 45,
   "metadata": {},
   "outputs": [
    {
     "name": "stdout",
     "output_type": "stream",
     "text": [
      "78435adfg\n",
      "78435adfg\n"
     ]
    }
   ],
   "source": [
    "print(str(78435) + 'adfg')\n",
    "print(int.__str__(78435) + 'adfg')"
   ]
  },
  {
   "cell_type": "markdown",
   "metadata": {},
   "source": [
    "What happens, when we take str(emp_1)?"
   ]
  },
  {
   "cell_type": "code",
   "execution_count": 38,
   "metadata": {},
   "outputs": [
    {
     "name": "stdout",
     "output_type": "stream",
     "text": [
      "<__main__.Employee object at 0x00000145FEA6D890>\n"
     ]
    }
   ],
   "source": [
    "class Employee:\n",
    "    def __init__(self, first, last, pay): \n",
    "        self.first = first\n",
    "        self.last = last\n",
    "        self.pay = pay\n",
    "        self.email = first + '.' + last + '@company.com'\n",
    "\n",
    "emp_1 = Employee('Corey', 'Schafer', 50_000)\n",
    "emp_2 = Employee('Test', 'User', 60_000)\n",
    "\n",
    "print(str(emp_1))"
   ]
  },
  {
   "cell_type": "markdown",
   "metadata": {},
   "source": [
    "It just shows the information about the object"
   ]
  },
  {
   "cell_type": "markdown",
   "metadata": {},
   "source": [
    "Let's rewrite the built-in function \"\\_\\_str__\""
   ]
  },
  {
   "cell_type": "code",
   "execution_count": 40,
   "metadata": {},
   "outputs": [
    {
     "name": "stdout",
     "output_type": "stream",
     "text": [
      "Corey Schafer - Corey.Schafer@company.com\n"
     ]
    }
   ],
   "source": [
    "class Employee:\n",
    "    def __init__(self, first, last, pay): \n",
    "        self.first = first\n",
    "        self.last = last\n",
    "        self.pay = pay\n",
    "        self.email = first + '.' + last + '@company.com'\n",
    "\n",
    "    def fullname(self):\n",
    "        return '{} {}'.format(self.first, self.last)\n",
    "    \n",
    "    # must be more readable for end users\n",
    "    def __str__(self):  # it's a built_in function\n",
    "        return '{} - {}'.format(self.fullname(), self.email)\n",
    "    \n",
    "emp_1 = Employee('Corey', 'Schafer', 50_000)\n",
    "emp_2 = Employee('Test', 'User', 60_000)\n",
    "\n",
    "print(str(emp_1))"
   ]
  },
  {
   "cell_type": "markdown",
   "metadata": {},
   "source": [
    "## Video6 - Property Decorators - Getters, Setters"
   ]
  },
  {
   "cell_type": "markdown",
   "metadata": {},
   "source": [
    "If we want the attribute of an instance to be changed when we change some other attributes, let's use @property decorator."
   ]
  },
  {
   "cell_type": "code",
   "execution_count": 61,
   "metadata": {},
   "outputs": [
    {
     "name": "stdout",
     "output_type": "stream",
     "text": [
      "Jim Smith\n",
      "John.Smith@email.com\n",
      "\"email\" doesn't change after changing of first name\n",
      "However, property \"fullname\" changes because property calls \"first\" and \"last\" attributes\n"
     ]
    }
   ],
   "source": [
    "class Employee:\n",
    "    def __init__(self, first, last): \n",
    "        self.first = first\n",
    "        self.last = last\n",
    "        self.email = '{}.{}@email.com'.format(self.first, self.last)\n",
    "\n",
    "    @property  # don't need to write emp_1.email(), we write only emp_1.email\n",
    "    # but it calls first and last each time when we call email\n",
    "    def fullname(self):\n",
    "        return '{} {}'.format(self.first, self.last)\n",
    "\n",
    "\n",
    "emp_1 = Employee('John', 'Smith')\n",
    "emp_1.first = 'Jim'\n",
    "print(emp_1.fullname)\n",
    "print(emp_1.email)\n",
    "print('\"email\" doesn\\'t change after changing of first name')\n",
    "print('However, property \"fullname\" changes because property calls \"first\" and \"last\" attributes')"
   ]
  },
  {
   "cell_type": "markdown",
   "metadata": {},
   "source": [
    "The only drawback of using property is that we need to calculate \"fullname\" each time when we address to \"fullname\""
   ]
  },
  {
   "cell_type": "markdown",
   "metadata": {},
   "source": [
    "If we also want to change \"first\" and \"last\" when we assign new \"fullname\" to the instance, let's use \"setter\""
   ]
  },
  {
   "cell_type": "code",
   "execution_count": 65,
   "metadata": {},
   "outputs": [
    {
     "name": "stdout",
     "output_type": "stream",
     "text": [
      "before change\n",
      "John Smith\n",
      "--------------\n",
      "after the change\n",
      "Jim Marmot\n",
      "Jim Marmot\n"
     ]
    }
   ],
   "source": [
    "class Employee:\n",
    "    def __init__(self, first, last): \n",
    "        self.first = first\n",
    "        self.last = last\n",
    "\n",
    "    @property\n",
    "    def fullname(self):\n",
    "        return '{} {}'.format(self.first, self.last)\n",
    "\n",
    "    @fullname.setter # set first and last variables when we set fullname\n",
    "    # only for property variable fullname\n",
    "    def fullname(self, name):\n",
    "        first, last = name.split(' ')\n",
    "        self.first = first\n",
    "        self.last = last\n",
    "\n",
    "print('before change')\n",
    "emp_1 = Employee('John', 'Smith')\n",
    "print(emp_1.first, emp_1.last)\n",
    "\n",
    "print('--------------')\n",
    "\n",
    "print('after the change')\n",
    "emp_1.fullname = 'Jim Marmot' # can change fullname and first and last will change automatically\n",
    "print(emp_1.fullname)\n",
    "print(emp_1.first, emp_1.last)"
   ]
  }
 ],
 "metadata": {
  "kernelspec": {
   "display_name": "base",
   "language": "python",
   "name": "python3"
  },
  "language_info": {
   "codemirror_mode": {
    "name": "ipython",
    "version": 3
   },
   "file_extension": ".py",
   "mimetype": "text/x-python",
   "name": "python",
   "nbconvert_exporter": "python",
   "pygments_lexer": "ipython3",
   "version": "3.11.5"
  }
 },
 "nbformat": 4,
 "nbformat_minor": 2
}
