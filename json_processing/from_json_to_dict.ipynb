{
 "cells": [
  {
   "cell_type": "code",
   "execution_count": 3,
   "metadata": {},
   "outputs": [
    {
     "name": "stdout",
     "output_type": "stream",
     "text": [
      "{'learning_rate': 0.001, 'num_layers_moment': 0, 'num_units_rnn': [4], 'macro_feature_file_test': 'datasets/macro/macro_test.npz', 'optimizer': 'Adam', 'macro_feature_file': 'datasets/macro/macro_train.npz', 'use_rnn': True, 'weighted_loss': True, 'hidden_dim': [64, 64], 'cell_type_rnn_moment': 'lstm', 'cell_type_rnn': 'lstm', 'macro_feature_file_valid': 'datasets/macro/macro_valid.npz', 'num_epochs_moment': 64, 'tSize_test': 300, 'tSize': 240, 'individual_feature_dim': 46, 'tSize_valid': 60, 'num_condition_moment': 8, 'loss_factor': 1.0, 'num_layers_rnn_moment': 1, 'individual_feature_file_valid': 'datasets/char/Char_valid.npz', 'num_epochs': 1024, 'individual_feature_file': 'datasets/char/Char_train.npz', 'num_units_rnn_moment': [32], 'num_epochs_unc': 256, 'dropout': 0.95, 'macro_feature_dim': 178, 'num_layers_rnn': 1, 'sub_epoch': 4, 'individual_feature_file_test': 'datasets/char/Char_test.npz', 'hidden_dim_moment': [], 'num_layers': 2}\n",
      "0.001\n"
     ]
    }
   ],
   "source": [
    "import json\n",
    "\n",
    "# Retrieve JSON data from the file\n",
    "with open(\"config.json\", \"r\") as file:\n",
    "    data = json.load(file)\n",
    "\n",
    "print(data)\n",
    "print(data['learning_rate'])"
   ]
  }
 ],
 "metadata": {
  "kernelspec": {
   "display_name": "base",
   "language": "python",
   "name": "python3"
  },
  "language_info": {
   "codemirror_mode": {
    "name": "ipython",
    "version": 3
   },
   "file_extension": ".py",
   "mimetype": "text/x-python",
   "name": "python",
   "nbconvert_exporter": "python",
   "pygments_lexer": "ipython3",
   "version": "3.11.5"
  }
 },
 "nbformat": 4,
 "nbformat_minor": 2
}
