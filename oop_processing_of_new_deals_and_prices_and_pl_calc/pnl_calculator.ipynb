{
 "cells": [
  {
   "cell_type": "markdown",
   "metadata": {},
   "source": [
    "**Goal**: process commands from the txt file one-by-one to efficiently store actual prices and traded deals and provide information about the worst trades.\n",
    "\n",
    "**Given**: we have txt file \"events.txt\" where each line represents one command that we need to process:\n",
    "\n",
    "1. **PRICE_UPDATE**. This type of line looks like \"PRICE_UPDATE Facebook 80\" where *Facebook* means the name of the traded instrument, and *80* is the price of this traded instrument. This type of line means that the new price information becomes available and the current price is 80 since now.\n",
    "\n",
    "2. **TRADE**. This type of line looks like \"TRADE 2 Facebook BUY 100\" where *2* is the identification number (ID) of the trade, *Facebook* means the name of the traded instrument, *BUY* means the direction of the deal (whether we bought or sold the instrument; available values: BUY or SELL), *100* is the price of this traded instrument. This type of line means that a new trade has been made.\n",
    "\n",
    "3. **WORST_TRADE**. This type of line looks like \"WORST_TRADE Facebook\" where *Facebook* means the name of the traded instrument. This type of line means that we must print the ID of the worst trade with this instrument. \n",
    "    * Profit for the deal for the given instrument is calculated as:\n",
    "        * \"PL = current price - the price of the traded deal\" for BUY deals\n",
    "        * \"PL = the price of the traded deal - current price\" for SELL deals\n",
    "    * Having calculated PL,\n",
    "        * we print the ID of the trade with the lowest PL for the given instrument if this PL is negative.\n",
    "        * we print 'NO BAD TRADES' if the lowest PL for given instrument is zero or positive"
   ]
  },
  {
   "cell_type": "markdown",
   "metadata": {},
   "source": [
    "**Solution:**. pnl_calculator.py contains the class PnLCalculator where we have 4 functions:\n",
    "\n",
    "* **process_price_update** updates price of given instrument when a PRICE_UPDATE request appears.\n",
    "* **process_trade** stores the new trade in the dictionary of trades when a TRADE request comes up.\n",
    "* **output_worst_trade** displays the worst trade for the given instrument.\n",
    "* **process_all_events**. It iterates through all lines in events.txt file to identify what type of line it is in order to run one out of the three above-mentioned functions.\n",
    "\n",
    "I use dictionaries to store prices and trades to have the opportunity to iterate fast through all deals of the given instrument when a WORST_TRADE request comes up."
   ]
  },
  {
   "cell_type": "code",
   "execution_count": 1,
   "metadata": {},
   "outputs": [
    {
     "name": "stdout",
     "output_type": "stream",
     "text": [
      "Facebook worst trade id is 2\n",
      "Apple worst trade id is 4\n"
     ]
    }
   ],
   "source": [
    "from pnl_calculator import PnLCalculator\n",
    "\n",
    "calculator = PnLCalculator('events.txt')\n",
    "calculator.process_all_events()"
   ]
  }
 ],
 "metadata": {
  "kernelspec": {
   "display_name": "base",
   "language": "python",
   "name": "python3"
  },
  "language_info": {
   "codemirror_mode": {
    "name": "ipython",
    "version": 3
   },
   "file_extension": ".py",
   "mimetype": "text/x-python",
   "name": "python",
   "nbconvert_exporter": "python",
   "pygments_lexer": "ipython3",
   "version": "3.11.5"
  }
 },
 "nbformat": 4,
 "nbformat_minor": 2
}
