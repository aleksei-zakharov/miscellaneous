{
 "cells": [
  {
   "cell_type": "markdown",
   "metadata": {},
   "source": [
    "#### Min heap construction (smallest is the root) https://youtu.be/uzqKs5t9_gk?si=wCAlMf28dthCrR9U"
   ]
  },
  {
   "cell_type": "code",
   "execution_count": 5,
   "metadata": {},
   "outputs": [
    {
     "name": "stdout",
     "output_type": "stream",
     "text": [
      "1\n",
      "2\n",
      "3\n",
      "4\n",
      "5\n",
      "6\n"
     ]
    }
   ],
   "source": [
    "# MIN HEAP\n",
    "from heapq import heappush, heappop # every parent node has a value less than or equal to any of its children\n",
    "\n",
    "arr = [3, 1, 6, 5, 2, 4]\n",
    "h = []\n",
    "for i in range(len(arr)):\n",
    "    heappush(h, arr[i])\n",
    "print(heappop(h))\n",
    "print(heappop(h))\n",
    "print(heappop(h))\n",
    "print(heappop(h))\n",
    "print(heappop(h))\n",
    "print(heappop(h))"
   ]
  },
  {
   "cell_type": "markdown",
   "metadata": {},
   "source": [
    "### Max heap construction"
   ]
  },
  {
   "cell_type": "code",
   "execution_count": 7,
   "metadata": {},
   "outputs": [
    {
     "name": "stdout",
     "output_type": "stream",
     "text": [
      "6\n",
      "5\n",
      "4\n",
      "3\n",
      "2\n",
      "1\n"
     ]
    }
   ],
   "source": [
    "# MIN HEAP\n",
    "from heapq import heappush, heappop # every parent node has a value less than or equal to any of its children\n",
    "\n",
    "arr = [3, 1, 6, 5, 2, 4]\n",
    "arr = [-x for x in arr]\n",
    "h = []\n",
    "for i in range(len(arr)):\n",
    "    heappush(h, arr[i])\n",
    "print(-heappop(h))\n",
    "print(-heappop(h))\n",
    "print(-heappop(h))\n",
    "print(-heappop(h))\n",
    "print(-heappop(h))\n",
    "print(-heappop(h))"
   ]
  }
 ],
 "metadata": {
  "kernelspec": {
   "display_name": "base",
   "language": "python",
   "name": "python3"
  },
  "language_info": {
   "codemirror_mode": {
    "name": "ipython",
    "version": 3
   },
   "file_extension": ".py",
   "mimetype": "text/x-python",
   "name": "python",
   "nbconvert_exporter": "python",
   "pygments_lexer": "ipython3",
   "version": "3.11.5"
  }
 },
 "nbformat": 4,
 "nbformat_minor": 2
}
